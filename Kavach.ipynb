{
  "cells": [
    {
      "cell_type": "code",
      "execution_count": null,
      "metadata": {
        "colab": {
          "base_uri": "https://localhost:8080/"
        },
        "id": "8SdYIJ0d10xm",
        "outputId": "3561f403-a0a7-41bc-c92b-ce8d95d5a57f"
      },
      "outputs": [
        {
          "name": "stdout",
          "output_type": "stream",
          "text": [
            "Looking in indexes: https://pypi.org/simple, https://us-python.pkg.dev/colab-wheels/public/simple/\n",
            "Requirement already satisfied: ultralytics in /usr/local/lib/python3.9/dist-packages (8.0.86)\n",
            "Requirement already satisfied: pymongo in /usr/local/lib/python3.9/dist-packages (4.3.3)\n",
            "Requirement already satisfied: thop>=0.1.1 in /usr/local/lib/python3.9/dist-packages (from ultralytics) (0.1.1.post2209072238)\n",
            "Requirement already satisfied: numpy>=1.21.6 in /usr/local/lib/python3.9/dist-packages (from ultralytics) (1.22.4)\n",
            "Requirement already satisfied: matplotlib>=3.2.2 in /usr/local/lib/python3.9/dist-packages (from ultralytics) (3.7.1)\n",
            "Requirement already satisfied: PyYAML>=5.3.1 in /usr/local/lib/python3.9/dist-packages (from ultralytics) (6.0)\n",
            "Requirement already satisfied: tqdm>=4.64.0 in /usr/local/lib/python3.9/dist-packages (from ultralytics) (4.65.0)\n",
            "Requirement already satisfied: torch>=1.7.0 in /usr/local/lib/python3.9/dist-packages (from ultralytics) (2.0.0+cu118)\n",
            "Requirement already satisfied: opencv-python>=4.6.0 in /usr/local/lib/python3.9/dist-packages (from ultralytics) (4.7.0.72)\n",
            "Requirement already satisfied: psutil in /usr/local/lib/python3.9/dist-packages (from ultralytics) (5.9.5)\n",
            "Requirement already satisfied: requests>=2.23.0 in /usr/local/lib/python3.9/dist-packages (from ultralytics) (2.27.1)\n",
            "Requirement already satisfied: Pillow>=7.1.2 in /usr/local/lib/python3.9/dist-packages (from ultralytics) (8.4.0)\n",
            "Requirement already satisfied: seaborn>=0.11.0 in /usr/local/lib/python3.9/dist-packages (from ultralytics) (0.12.2)\n",
            "Requirement already satisfied: pandas>=1.1.4 in /usr/local/lib/python3.9/dist-packages (from ultralytics) (1.5.3)\n",
            "Requirement already satisfied: torchvision>=0.8.1 in /usr/local/lib/python3.9/dist-packages (from ultralytics) (0.15.1+cu118)\n",
            "Requirement already satisfied: sentry-sdk in /usr/local/lib/python3.9/dist-packages (from ultralytics) (1.20.0)\n",
            "Requirement already satisfied: scipy>=1.4.1 in /usr/local/lib/python3.9/dist-packages (from ultralytics) (1.10.1)\n",
            "Requirement already satisfied: dnspython<3.0.0,>=1.16.0 in /usr/local/lib/python3.9/dist-packages (from pymongo) (2.3.0)\n",
            "Requirement already satisfied: kiwisolver>=1.0.1 in /usr/local/lib/python3.9/dist-packages (from matplotlib>=3.2.2->ultralytics) (1.4.4)\n",
            "Requirement already satisfied: cycler>=0.10 in /usr/local/lib/python3.9/dist-packages (from matplotlib>=3.2.2->ultralytics) (0.11.0)\n",
            "Requirement already satisfied: contourpy>=1.0.1 in /usr/local/lib/python3.9/dist-packages (from matplotlib>=3.2.2->ultralytics) (1.0.7)\n",
            "Requirement already satisfied: python-dateutil>=2.7 in /usr/local/lib/python3.9/dist-packages (from matplotlib>=3.2.2->ultralytics) (2.8.2)\n",
            "Requirement already satisfied: importlib-resources>=3.2.0 in /usr/local/lib/python3.9/dist-packages (from matplotlib>=3.2.2->ultralytics) (5.12.0)\n",
            "Requirement already satisfied: packaging>=20.0 in /usr/local/lib/python3.9/dist-packages (from matplotlib>=3.2.2->ultralytics) (23.1)\n",
            "Requirement already satisfied: fonttools>=4.22.0 in /usr/local/lib/python3.9/dist-packages (from matplotlib>=3.2.2->ultralytics) (4.39.3)\n",
            "Requirement already satisfied: pyparsing>=2.3.1 in /usr/local/lib/python3.9/dist-packages (from matplotlib>=3.2.2->ultralytics) (3.0.9)\n",
            "Requirement already satisfied: pytz>=2020.1 in /usr/local/lib/python3.9/dist-packages (from pandas>=1.1.4->ultralytics) (2022.7.1)\n",
            "Requirement already satisfied: charset-normalizer~=2.0.0 in /usr/local/lib/python3.9/dist-packages (from requests>=2.23.0->ultralytics) (2.0.12)\n",
            "Requirement already satisfied: idna<4,>=2.5 in /usr/local/lib/python3.9/dist-packages (from requests>=2.23.0->ultralytics) (3.4)\n",
            "Requirement already satisfied: urllib3<1.27,>=1.21.1 in /usr/local/lib/python3.9/dist-packages (from requests>=2.23.0->ultralytics) (1.26.15)\n",
            "Requirement already satisfied: certifi>=2017.4.17 in /usr/local/lib/python3.9/dist-packages (from requests>=2.23.0->ultralytics) (2022.12.7)\n",
            "Requirement already satisfied: typing-extensions in /usr/local/lib/python3.9/dist-packages (from torch>=1.7.0->ultralytics) (4.5.0)\n",
            "Requirement already satisfied: triton==2.0.0 in /usr/local/lib/python3.9/dist-packages (from torch>=1.7.0->ultralytics) (2.0.0)\n",
            "Requirement already satisfied: sympy in /usr/local/lib/python3.9/dist-packages (from torch>=1.7.0->ultralytics) (1.11.1)\n",
            "Requirement already satisfied: filelock in /usr/local/lib/python3.9/dist-packages (from torch>=1.7.0->ultralytics) (3.11.0)\n",
            "Requirement already satisfied: networkx in /usr/local/lib/python3.9/dist-packages (from torch>=1.7.0->ultralytics) (3.1)\n",
            "Requirement already satisfied: jinja2 in /usr/local/lib/python3.9/dist-packages (from torch>=1.7.0->ultralytics) (3.1.2)\n",
            "Requirement already satisfied: lit in /usr/local/lib/python3.9/dist-packages (from triton==2.0.0->torch>=1.7.0->ultralytics) (16.0.1)\n",
            "Requirement already satisfied: cmake in /usr/local/lib/python3.9/dist-packages (from triton==2.0.0->torch>=1.7.0->ultralytics) (3.25.2)\n",
            "Requirement already satisfied: zipp>=3.1.0 in /usr/local/lib/python3.9/dist-packages (from importlib-resources>=3.2.0->matplotlib>=3.2.2->ultralytics) (3.15.0)\n",
            "Requirement already satisfied: six>=1.5 in /usr/local/lib/python3.9/dist-packages (from python-dateutil>=2.7->matplotlib>=3.2.2->ultralytics) (1.16.0)\n",
            "Requirement already satisfied: MarkupSafe>=2.0 in /usr/local/lib/python3.9/dist-packages (from jinja2->torch>=1.7.0->ultralytics) (2.1.2)\n",
            "Requirement already satisfied: mpmath>=0.19 in /usr/local/lib/python3.9/dist-packages (from sympy->torch>=1.7.0->ultralytics) (1.3.0)\n"
          ]
        }
      ],
      "source": [
        "!pip install ultralytics pymongo"
      ]
    },
    {
      "cell_type": "code",
      "execution_count": null,
      "metadata": {
        "colab": {
          "base_uri": "https://localhost:8080/"
        },
        "id": "QLPVOayrS0kz",
        "outputId": "27ae0d2d-b551-4a3e-9f3a-e67aa881eb7f"
      },
      "outputs": [
        {
          "name": "stdout",
          "output_type": "stream",
          "text": [
            "/content/drive/MyDrive/Alerts\n"
          ]
        }
      ],
      "source": [
        "%cd /content/drive/MyDrive/Alerts"
      ]
    },
    {
      "cell_type": "code",
      "execution_count": null,
      "metadata": {
        "colab": {
          "base_uri": "https://localhost:8080/"
        },
        "id": "fHmQ_O58WyKw",
        "outputId": "3c8c80d5-805c-4cba-c2aa-6fcbac77d18b"
      },
      "outputs": [
        {
          "name": "stderr",
          "output_type": "stream",
          "text": [
            "\n",
            "image 1/1 /content/drive/MyDrive/Alerts/malorian-arms-3516-weapon-cyberpunk-2077-wiki-guide.png: 384x640 1 handgun, 60.9ms\n",
            "Speed: 0.6ms preprocess, 60.9ms inference, 36.6ms postprocess per image at shape (1, 3, 640, 640)\n",
            "Results saved to \u001b[1mruns/detect/predict15\u001b[0m\n"
          ]
        }
      ],
      "source": [
        "from collections import defaultdict\n",
        "import io\n",
        "from PIL import Image\n",
        "from ultralytics import YOLO\n",
        "import email, smtplib, ssl\n",
        "import pymongo\n",
        "from email import encoders\n",
        "from email.mime.base import MIMEBase\n",
        "from email.mime.multipart import MIMEMultipart\n",
        "from email.mime.text import MIMEText\n",
        "from datetime import datetime\n",
        "import os\n",
        "\n",
        "# for training\n",
        "# model = YOLO('yolov8m.yaml')\n",
        "# results = model.train(data=\"config.yaml\",epochs=10)\n",
        "# print(results)\n",
        "\n",
        "def email(item:str):\n",
        "    path = str(os.getcwd())+\"/runs/detect\"\n",
        "    array = []\n",
        "    cur_dict = {}\n",
        "\n",
        "    def convertToNum(input:str):\n",
        "\n",
        "        digits = len(input)\n",
        "        fnum = 0\n",
        "        length = digits\n",
        "        for i in range(digits):\n",
        "            fnum += (ord(input[i])-48)*10**(length-1)\n",
        "            length-=1\n",
        "        return fnum\n",
        "\n",
        "\n",
        "    for entry in os.scandir(path):\n",
        "        client = pymongo.MongoClient(\"MongoDB Credentials\")\n",
        "        db = client.get_database('test_data')\n",
        "        collection_name = db.test_record\n",
        "\n",
        "        try:\n",
        "            if(str(entry).index('predict')):\n",
        "                text =  str(entry)[str(entry).index('predict'):len(str(entry))-2]\n",
        "                num = ''\n",
        "                i=0\n",
        "                while(i!=len(text)):\n",
        "                    if(text[i]=='t' and i+1!=len(text)):\n",
        "                        i+=1\n",
        "                        while(i!=len(text)):\n",
        "                            num+=text[i]\n",
        "                            i+=1\n",
        "                    else:\n",
        "                        i+=1\n",
        "                array+=[convertToNum(num)]\n",
        "\n",
        "        except ValueError:\n",
        "            pass\n",
        "\n",
        "\n",
        "    latest_dir = path+\"/predict/\"\n",
        "    filename= ''\n",
        "    if(array[0]!=0):\n",
        "\n",
        "        array.sort()\n",
        "        latest_dir = path+'/predict'+str(array[-1])+\"/\"\n",
        "        filename = os.listdir(latest_dir)[0]\n",
        "        latest_dir+=filename\n",
        "    else:\n",
        "        latest_dir = path+'/predict'+\"/\"\n",
        "        filename = os.listdir(latest_dir)[0]\n",
        "        latest_dir+=filename\n",
        "\n",
        "    subject = \"Emergency alert !!\"\n",
        "    body = f\"{item} detected !!\"\n",
        "    sender_email = \"user_email\"\n",
        "    receiver_email = \"receiver_email\"\n",
        "    password = 'two-fath password'\n",
        "\n",
        "    message = MIMEMultipart()\n",
        "    message[\"From\"] = sender_email\n",
        "    message[\"To\"] = receiver_email\n",
        "    message[\"Subject\"] = subject\n",
        "\n",
        "\n",
        "\n",
        "    message.attach(MIMEText(body, \"plain\"))\n",
        "\n",
        "    with open(filename, \"rb\") as attachment:\n",
        "        part = MIMEBase(\"application\", \"octet-stream\")\n",
        "        part.set_payload(attachment.read())\n",
        "\n",
        "    encoders.encode_base64(part)\n",
        "\n",
        "\n",
        "    part.add_header(\n",
        "        \"Content-Disposition\",\n",
        "        f\"attachment; filename= {filename}\",\n",
        "    )\n",
        "\n",
        "    message.attach(part)\n",
        "    text = message.as_string()\n",
        "\n",
        "    context = ssl.create_default_context()\n",
        "    with smtplib.SMTP(\"smtp.gmail.com\", 587) as server:\n",
        "        server.ehlo()\n",
        "        server.starttls(context=context)\n",
        "        server.ehlo()\n",
        "        server.login(sender_email, password)\n",
        "        server.sendmail(sender_email, receiver_email, text)\n",
        "    im = Image.open(latest_dir)\n",
        "    image_bytes = io.BytesIO()\n",
        "    im.save(image_bytes, format='PNG')\n",
        "\n",
        "    cur_dict['TimeStamp'] = datetime.now()\n",
        "    cur_dict['Screenshot'] = image_bytes.getvalue()\n",
        "    cur_dict['Alert_Type'] = 'High'\n",
        "\n",
        "    collection_name.insert_one(cur_dict)\n",
        "\n",
        "path = os.getcwd()\n",
        "model = YOLO(path+\"/weights/best.pt\")\n",
        "res:list\n",
        "res = model.predict(source=path+'/malorian-arms-3516-weapon-cyberpunk-2077-wiki-guide.png',save=True,conf=0.5)\n",
        "items = ''\n",
        "if(res[0].names):\n",
        "    for i in res[0].names:\n",
        "        items += res[0].names[i]\n",
        "    email(items)"
      ]
    },
    {
      "cell_type": "code",
      "execution_count": null,
      "metadata": {
        "colab": {
          "base_uri": "https://localhost:8080/",
          "height": 345
        },
        "id": "bIGWSbk7VAqZ",
        "outputId": "2ceb7c03-b376-49c4-922f-80a0ad0b53d1"
      },
      "outputs": [],
      "source": [
        "%matplotlib inline\n",
        "import pymongo\n",
        "import matplotlib.pyplot as plt\n",
        "from PIL import Image\n",
        "import io\n",
        "\n",
        "client = pymongo.MongoClient(\"MongoDB Credentials\")\n",
        "db = client.get_database('Alerts')\n",
        "collection_name = db.High_Alert\n",
        "image = collection_name.find_one()\n",
        "\n",
        "pil_img = Image.open(io.BytesIO(image['Screenshot']))\n",
        "plt.imshow(pil_img)\n",
        "plt.show()"
      ]
    }
  ],
  "metadata": {
    "colab": {
      "provenance": []
    },
    "gpuClass": "standard",
    "kernelspec": {
      "display_name": "Python 3",
      "name": "python3"
    },
    "language_info": {
      "name": "python"
    }
  },
  "nbformat": 4,
  "nbformat_minor": 0
}
